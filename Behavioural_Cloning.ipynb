{
  "nbformat": 4,
  "nbformat_minor": 0,
  "metadata": {
    "colab": {
      "name": "Behavioural Cloning.ipynb",
      "provenance": [],
      "collapsed_sections": [],
      "include_colab_link": true
    },
    "kernelspec": {
      "name": "python3",
      "display_name": "Python 3"
    }
  },
  "cells": [
    {
      "cell_type": "markdown",
      "metadata": {
        "id": "view-in-github",
        "colab_type": "text"
      },
      "source": [
        "<a href=\"https://colab.research.google.com/github/Svaity/Self-Driving-Car-Software/blob/master/Behavioural_Cloning.ipynb\" target=\"_parent\"><img src=\"https://colab.research.google.com/assets/colab-badge.svg\" alt=\"Open In Colab\"/></a>"
      ]
    },
    {
      "cell_type": "code",
      "metadata": {
        "id": "S-l98hgB5WqP",
        "colab_type": "code",
        "outputId": "985db316-1df0-4057-8aa0-140839a8217c",
        "colab": {
          "base_uri": "https://localhost:8080/",
          "height": 102
        }
      },
      "source": [
        "!git clone https://github.com/rslim087a/track"
      ],
      "execution_count": 5,
      "outputs": [
        {
          "output_type": "stream",
          "text": [
            "Cloning into 'track'...\n",
            "remote: Enumerating objects: 12163, done.\u001b[K\n",
            "remote: Total 12163 (delta 0), reused 0 (delta 0), pack-reused 12163\u001b[K\n",
            "Receiving objects: 100% (12163/12163), 156.98 MiB | 28.60 MiB/s, done.\n",
            "Checking out files: 100% (12160/12160), done.\n"
          ],
          "name": "stdout"
        }
      ]
    },
    {
      "cell_type": "code",
      "metadata": {
        "id": "afgRgw5q5uY1",
        "colab_type": "code",
        "outputId": "47093e1f-f2bd-4098-e155-2162b7e84149",
        "colab": {
          "base_uri": "https://localhost:8080/",
          "height": 34
        }
      },
      "source": [
        "!ls track"
      ],
      "execution_count": 6,
      "outputs": [
        {
          "output_type": "stream",
          "text": [
            "driving_log.csv  IMG\n"
          ],
          "name": "stdout"
        }
      ]
    },
    {
      "cell_type": "code",
      "metadata": {
        "id": "svZlBD1c7Wog",
        "colab_type": "code",
        "colab": {}
      },
      "source": [
        "import os\n",
        "import numpy as np\n",
        "import matplotlib.pyplot as plt\n",
        "from keras.models import  Sequential\n",
        "from keras.optimizers import Adam\n",
        "from keras.layers import  Conv2D, MaxPooling2D, Dropout, Flatten, Dense\n",
        "from sklearn.utils import shuffle\n",
        "import cv2\n",
        "import pandas as pd\n",
        "import ntpath\n",
        "import random"
      ],
      "execution_count": 0,
      "outputs": []
    },
    {
      "cell_type": "code",
      "metadata": {
        "id": "yrY1i_mb727J",
        "colab_type": "code",
        "colab": {}
      },
      "source": [
        "datadir = 'track'"
      ],
      "execution_count": 0,
      "outputs": []
    },
    {
      "cell_type": "code",
      "metadata": {
        "id": "eXDKUz4T7-a6",
        "colab_type": "code",
        "outputId": "b6c76ee6-f707-4e4e-f966-757633dfd044",
        "colab": {
          "base_uri": "https://localhost:8080/",
          "height": 224
        }
      },
      "source": [
        "columns = ['center', 'left', 'right','steering', 'throttle', 'reverse', 'speed']\n",
        "data = pd.read_csv(os.path.join(datadir, 'driving_log.csv'), names=columns)\n",
        "pd.set_option('display.max_colwidth', -1)\n",
        "data.head()"
      ],
      "execution_count": 9,
      "outputs": [
        {
          "output_type": "execute_result",
          "data": {
            "text/html": [
              "<div>\n",
              "<style scoped>\n",
              "    .dataframe tbody tr th:only-of-type {\n",
              "        vertical-align: middle;\n",
              "    }\n",
              "\n",
              "    .dataframe tbody tr th {\n",
              "        vertical-align: top;\n",
              "    }\n",
              "\n",
              "    .dataframe thead th {\n",
              "        text-align: right;\n",
              "    }\n",
              "</style>\n",
              "<table border=\"1\" class=\"dataframe\">\n",
              "  <thead>\n",
              "    <tr style=\"text-align: right;\">\n",
              "      <th></th>\n",
              "      <th>center</th>\n",
              "      <th>left</th>\n",
              "      <th>right</th>\n",
              "      <th>steering</th>\n",
              "      <th>throttle</th>\n",
              "      <th>reverse</th>\n",
              "      <th>speed</th>\n",
              "    </tr>\n",
              "  </thead>\n",
              "  <tbody>\n",
              "    <tr>\n",
              "      <th>0</th>\n",
              "      <td>C:\\Users\\Amer\\Desktop\\new_track\\IMG\\center_2018_07_16_17_11_43_382.jpg</td>\n",
              "      <td>C:\\Users\\Amer\\Desktop\\new_track\\IMG\\left_2018_07_16_17_11_43_382.jpg</td>\n",
              "      <td>C:\\Users\\Amer\\Desktop\\new_track\\IMG\\right_2018_07_16_17_11_43_382.jpg</td>\n",
              "      <td>0.0</td>\n",
              "      <td>0.0</td>\n",
              "      <td>0.0</td>\n",
              "      <td>0.649786</td>\n",
              "    </tr>\n",
              "    <tr>\n",
              "      <th>1</th>\n",
              "      <td>C:\\Users\\Amer\\Desktop\\new_track\\IMG\\center_2018_07_16_17_11_43_670.jpg</td>\n",
              "      <td>C:\\Users\\Amer\\Desktop\\new_track\\IMG\\left_2018_07_16_17_11_43_670.jpg</td>\n",
              "      <td>C:\\Users\\Amer\\Desktop\\new_track\\IMG\\right_2018_07_16_17_11_43_670.jpg</td>\n",
              "      <td>0.0</td>\n",
              "      <td>0.0</td>\n",
              "      <td>0.0</td>\n",
              "      <td>0.627942</td>\n",
              "    </tr>\n",
              "    <tr>\n",
              "      <th>2</th>\n",
              "      <td>C:\\Users\\Amer\\Desktop\\new_track\\IMG\\center_2018_07_16_17_11_43_724.jpg</td>\n",
              "      <td>C:\\Users\\Amer\\Desktop\\new_track\\IMG\\left_2018_07_16_17_11_43_724.jpg</td>\n",
              "      <td>C:\\Users\\Amer\\Desktop\\new_track\\IMG\\right_2018_07_16_17_11_43_724.jpg</td>\n",
              "      <td>0.0</td>\n",
              "      <td>0.0</td>\n",
              "      <td>0.0</td>\n",
              "      <td>0.622910</td>\n",
              "    </tr>\n",
              "    <tr>\n",
              "      <th>3</th>\n",
              "      <td>C:\\Users\\Amer\\Desktop\\new_track\\IMG\\center_2018_07_16_17_11_43_792.jpg</td>\n",
              "      <td>C:\\Users\\Amer\\Desktop\\new_track\\IMG\\left_2018_07_16_17_11_43_792.jpg</td>\n",
              "      <td>C:\\Users\\Amer\\Desktop\\new_track\\IMG\\right_2018_07_16_17_11_43_792.jpg</td>\n",
              "      <td>0.0</td>\n",
              "      <td>0.0</td>\n",
              "      <td>0.0</td>\n",
              "      <td>0.619162</td>\n",
              "    </tr>\n",
              "    <tr>\n",
              "      <th>4</th>\n",
              "      <td>C:\\Users\\Amer\\Desktop\\new_track\\IMG\\center_2018_07_16_17_11_43_860.jpg</td>\n",
              "      <td>C:\\Users\\Amer\\Desktop\\new_track\\IMG\\left_2018_07_16_17_11_43_860.jpg</td>\n",
              "      <td>C:\\Users\\Amer\\Desktop\\new_track\\IMG\\right_2018_07_16_17_11_43_860.jpg</td>\n",
              "      <td>0.0</td>\n",
              "      <td>0.0</td>\n",
              "      <td>0.0</td>\n",
              "      <td>0.615438</td>\n",
              "    </tr>\n",
              "  </tbody>\n",
              "</table>\n",
              "</div>"
            ],
            "text/plain": [
              "                                                                   center  ...     speed\n",
              "0  C:\\Users\\Amer\\Desktop\\new_track\\IMG\\center_2018_07_16_17_11_43_382.jpg  ...  0.649786\n",
              "1  C:\\Users\\Amer\\Desktop\\new_track\\IMG\\center_2018_07_16_17_11_43_670.jpg  ...  0.627942\n",
              "2  C:\\Users\\Amer\\Desktop\\new_track\\IMG\\center_2018_07_16_17_11_43_724.jpg  ...  0.622910\n",
              "3  C:\\Users\\Amer\\Desktop\\new_track\\IMG\\center_2018_07_16_17_11_43_792.jpg  ...  0.619162\n",
              "4  C:\\Users\\Amer\\Desktop\\new_track\\IMG\\center_2018_07_16_17_11_43_860.jpg  ...  0.615438\n",
              "\n",
              "[5 rows x 7 columns]"
            ]
          },
          "metadata": {
            "tags": []
          },
          "execution_count": 9
        }
      ]
    },
    {
      "cell_type": "code",
      "metadata": {
        "id": "P8SyCNl9Bedc",
        "colab_type": "code",
        "outputId": "953ba0ba-17b2-42b8-f87c-75ffd10d80e1",
        "colab": {
          "base_uri": "https://localhost:8080/",
          "height": 204
        }
      },
      "source": [
        "def path_leaf(path):\n",
        "  head, tail = ntpath.split(path)\n",
        "  return tail\n",
        "data['center']=data['center'].apply(path_leaf)\n",
        "data['left'] = data['left'].apply(path_leaf)\n",
        "data['right'] = data['right'].apply(path_leaf)\n",
        "data.head()"
      ],
      "execution_count": 10,
      "outputs": [
        {
          "output_type": "execute_result",
          "data": {
            "text/html": [
              "<div>\n",
              "<style scoped>\n",
              "    .dataframe tbody tr th:only-of-type {\n",
              "        vertical-align: middle;\n",
              "    }\n",
              "\n",
              "    .dataframe tbody tr th {\n",
              "        vertical-align: top;\n",
              "    }\n",
              "\n",
              "    .dataframe thead th {\n",
              "        text-align: right;\n",
              "    }\n",
              "</style>\n",
              "<table border=\"1\" class=\"dataframe\">\n",
              "  <thead>\n",
              "    <tr style=\"text-align: right;\">\n",
              "      <th></th>\n",
              "      <th>center</th>\n",
              "      <th>left</th>\n",
              "      <th>right</th>\n",
              "      <th>steering</th>\n",
              "      <th>throttle</th>\n",
              "      <th>reverse</th>\n",
              "      <th>speed</th>\n",
              "    </tr>\n",
              "  </thead>\n",
              "  <tbody>\n",
              "    <tr>\n",
              "      <th>0</th>\n",
              "      <td>center_2018_07_16_17_11_43_382.jpg</td>\n",
              "      <td>left_2018_07_16_17_11_43_382.jpg</td>\n",
              "      <td>right_2018_07_16_17_11_43_382.jpg</td>\n",
              "      <td>0.0</td>\n",
              "      <td>0.0</td>\n",
              "      <td>0.0</td>\n",
              "      <td>0.649786</td>\n",
              "    </tr>\n",
              "    <tr>\n",
              "      <th>1</th>\n",
              "      <td>center_2018_07_16_17_11_43_670.jpg</td>\n",
              "      <td>left_2018_07_16_17_11_43_670.jpg</td>\n",
              "      <td>right_2018_07_16_17_11_43_670.jpg</td>\n",
              "      <td>0.0</td>\n",
              "      <td>0.0</td>\n",
              "      <td>0.0</td>\n",
              "      <td>0.627942</td>\n",
              "    </tr>\n",
              "    <tr>\n",
              "      <th>2</th>\n",
              "      <td>center_2018_07_16_17_11_43_724.jpg</td>\n",
              "      <td>left_2018_07_16_17_11_43_724.jpg</td>\n",
              "      <td>right_2018_07_16_17_11_43_724.jpg</td>\n",
              "      <td>0.0</td>\n",
              "      <td>0.0</td>\n",
              "      <td>0.0</td>\n",
              "      <td>0.622910</td>\n",
              "    </tr>\n",
              "    <tr>\n",
              "      <th>3</th>\n",
              "      <td>center_2018_07_16_17_11_43_792.jpg</td>\n",
              "      <td>left_2018_07_16_17_11_43_792.jpg</td>\n",
              "      <td>right_2018_07_16_17_11_43_792.jpg</td>\n",
              "      <td>0.0</td>\n",
              "      <td>0.0</td>\n",
              "      <td>0.0</td>\n",
              "      <td>0.619162</td>\n",
              "    </tr>\n",
              "    <tr>\n",
              "      <th>4</th>\n",
              "      <td>center_2018_07_16_17_11_43_860.jpg</td>\n",
              "      <td>left_2018_07_16_17_11_43_860.jpg</td>\n",
              "      <td>right_2018_07_16_17_11_43_860.jpg</td>\n",
              "      <td>0.0</td>\n",
              "      <td>0.0</td>\n",
              "      <td>0.0</td>\n",
              "      <td>0.615438</td>\n",
              "    </tr>\n",
              "  </tbody>\n",
              "</table>\n",
              "</div>"
            ],
            "text/plain": [
              "                               center  ...     speed\n",
              "0  center_2018_07_16_17_11_43_382.jpg  ...  0.649786\n",
              "1  center_2018_07_16_17_11_43_670.jpg  ...  0.627942\n",
              "2  center_2018_07_16_17_11_43_724.jpg  ...  0.622910\n",
              "3  center_2018_07_16_17_11_43_792.jpg  ...  0.619162\n",
              "4  center_2018_07_16_17_11_43_860.jpg  ...  0.615438\n",
              "\n",
              "[5 rows x 7 columns]"
            ]
          },
          "metadata": {
            "tags": []
          },
          "execution_count": 10
        }
      ]
    },
    {
      "cell_type": "code",
      "metadata": {
        "id": "Nl4UdmE4C5bh",
        "colab_type": "code",
        "outputId": "7ddcb02d-0427-46e4-bf17-052305b219c3",
        "colab": {
          "base_uri": "https://localhost:8080/",
          "height": 282
        }
      },
      "source": [
        "num_bins = 25\n",
        "samples_per_bin = 200\n",
        "hist, bins = np.histogram(data['steering'], num_bins)\n",
        "center = (bins[:-1]+bins[1:]) * 0.5\n",
        "plt.bar(center, hist, width=0.05)\n",
        "plt.plot((np.min(data['steering']), np.max(data['steering'])), (samples_per_bin, samples_per_bin))"
      ],
      "execution_count": 11,
      "outputs": [
        {
          "output_type": "execute_result",
          "data": {
            "text/plain": [
              "[<matplotlib.lines.Line2D at 0x7f8e6b503898>]"
            ]
          },
          "metadata": {
            "tags": []
          },
          "execution_count": 11
        },
        {
          "output_type": "display_data",
          "data": {
            "image/png": "[encoded data removed]",
            "text/plain": [
              "<Figure size 432x288 with 1 Axes>"
            ]
          },
          "metadata": {
            "tags": []
          }
        }
      ]
    },
    {
      "cell_type": "code",
      "metadata": {
        "id": "uH8mUMTTG_ey",
        "colab_type": "code",
        "colab": {
          "base_uri": "https://localhost:8080/",
          "height": 333
        },
        "outputId": "6e7c19be-269e-45e2-85a3-18c9f4f1ea60"
      },
      "source": [
        "print('total data:', len(data))\n",
        "remove_list = []\n",
        "for j in range(num_bins):\n",
        "  list_ = []\n",
        "  for i in range(len(data['steering'])):\n",
        "    if data['steering'][i] >= bins[j] and data['steering'][i] <= bins[j+1]:\n",
        "      list_.append(i)\n",
        "\n",
        "  list_=shuffle(list_)\n",
        "  list_ = list_[samples_per_bin:]\n",
        "  remove_list.extend(list_)\n",
        "\n",
        "print('removed:', len(remove_list))\n",
        "data.drop(data.index[remove_list], inplace=True)\n",
        "print('remaining:', len(data))\n",
        "\n",
        "hist,  _ = np.histogram(data['steering'], (num_bins))\n",
        "plt.bar(center, hist, width=0.05)\n",
        "plt.plot((np.min(data['steering']), np.max(data['steering'])), (samples_per_bin, samples_per_bin))\n",
        "\n",
        " "
      ],
      "execution_count": 13,
      "outputs": [
        {
          "output_type": "stream",
          "text": [
            "total data: 4053\n",
            "removed: 2790\n",
            "remaining: 1263\n"
          ],
          "name": "stdout"
        },
        {
          "output_type": "execute_result",
          "data": {
            "text/plain": [
              "[<matplotlib.lines.Line2D at 0x7f8e6aac3518>]"
            ]
          },
          "metadata": {
            "tags": []
          },
          "execution_count": 13
        },
        {
          "output_type": "display_data",
          "data": {
            "image/png": "[encoded data removed]",
            "text/plain": [
              "<Figure size 432x288 with 1 Axes>"
            ]
          },
          "metadata": {
            "tags": []
          }
        }
      ]
    },
    {
      "cell_type": "code",
      "metadata": {
        "id": "X18zoyJjcU6J",
        "colab_type": "code",
        "colab": {}
      },
      "source": [
        ""
      ],
      "execution_count": 0,
      "outputs": []
    }
  ]
}